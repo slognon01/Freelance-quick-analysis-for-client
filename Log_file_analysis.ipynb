{
 "cells": [
  {
   "cell_type": "markdown",
   "id": "103f33e4",
   "metadata": {},
   "source": [
    "### Data Analysis\n",
    "Tasks\n",
    "1. first remove all the emails with @aliaswire.com\n",
    "\n",
    "2. calculate following basic stats and graphs\n",
    "    - how unique emails are used\n",
    "    - what is the average # of unique emails that log in per week\n",
    "    - make a graph that shows the # of logins by day\n",
    "    - make a line graph that shows the # of times each unique email logged in\n",
    "    - pie chart of which browsers are used and which operating system\n"
   ]
  },
  {
   "cell_type": "code",
   "execution_count": 46,
   "id": "79e19db5",
   "metadata": {},
   "outputs": [],
   "source": [
    "import pandas as pd\n",
    "import numpy as np\n",
    "import matplotlib.pyplot as plt \n",
    "import os\n",
    "%matplotlib inline\n",
    "import seaborn as sns\n",
    "import datetime"
   ]
  },
  {
   "cell_type": "code",
   "execution_count": 47,
   "id": "5cbb58f2",
   "metadata": {},
   "outputs": [
    {
     "data": {
      "text/html": [
       "<div>\n",
       "<style scoped>\n",
       "    .dataframe tbody tr th:only-of-type {\n",
       "        vertical-align: middle;\n",
       "    }\n",
       "\n",
       "    .dataframe tbody tr th {\n",
       "        vertical-align: top;\n",
       "    }\n",
       "\n",
       "    .dataframe thead th {\n",
       "        text-align: right;\n",
       "    }\n",
       "</style>\n",
       "<table border=\"1\" class=\"dataframe\">\n",
       "  <thead>\n",
       "    <tr style=\"text-align: right;\">\n",
       "      <th></th>\n",
       "      <th>login_date</th>\n",
       "      <th>last_updated_by</th>\n",
       "      <th>login_device</th>\n",
       "    </tr>\n",
       "  </thead>\n",
       "  <tbody>\n",
       "    <tr>\n",
       "      <th>0</th>\n",
       "      <td>2023-02-05 15:20:19</td>\n",
       "      <td>bbennett@vendingjustright.org                ...</td>\n",
       "      <td>Mozilla/5.0 (Linux; Android 12; KB2007) Apple...</td>\n",
       "    </tr>\n",
       "    <tr>\n",
       "      <th>1</th>\n",
       "      <td>2023-02-05 14:54:09</td>\n",
       "      <td>admin@amjsolutionsinvestor.com               ...</td>\n",
       "      <td>Mozilla/5.0 (Windows NT 10.0; Win64; x64) App...</td>\n",
       "    </tr>\n",
       "    <tr>\n",
       "      <th>2</th>\n",
       "      <td>2023-02-05 13:43:36</td>\n",
       "      <td>admin@amjsolutionsinvestor.com               ...</td>\n",
       "      <td>Mozilla/5.0 (Windows NT 10.0; Win64; x64) App...</td>\n",
       "    </tr>\n",
       "    <tr>\n",
       "      <th>3</th>\n",
       "      <td>2023-02-05 13:25:04</td>\n",
       "      <td>docudocllc@gmail.com                         ...</td>\n",
       "      <td>Mozilla/5.0 (iPhone; CPU iPhone OS 16_0 like ...</td>\n",
       "    </tr>\n",
       "    <tr>\n",
       "      <th>4</th>\n",
       "      <td>2023-02-05 09:12:32</td>\n",
       "      <td>lennyweston03@yahoo.com                      ...</td>\n",
       "      <td>Mozilla/5.0 (iPhone; CPU iPhone OS 16_0_2 lik...</td>\n",
       "    </tr>\n",
       "  </tbody>\n",
       "</table>\n",
       "</div>"
      ],
      "text/plain": [
       "    login_date            \\\n",
       "0   2023-02-05 15:20:19    \n",
       "1   2023-02-05 14:54:09    \n",
       "2   2023-02-05 13:43:36    \n",
       "3   2023-02-05 13:25:04    \n",
       "4   2023-02-05 09:12:32    \n",
       "\n",
       "   last_updated_by                                                                           \\\n",
       "0   bbennett@vendingjustright.org                ...                                          \n",
       "1   admin@amjsolutionsinvestor.com               ...                                          \n",
       "2   admin@amjsolutionsinvestor.com               ...                                          \n",
       "3   docudocllc@gmail.com                         ...                                          \n",
       "4   lennyweston03@yahoo.com                      ...                                          \n",
       "\n",
       "   login_device                                                                                                                                                         \n",
       "0   Mozilla/5.0 (Linux; Android 12; KB2007) Apple...                                                                                                                    \n",
       "1   Mozilla/5.0 (Windows NT 10.0; Win64; x64) App...                                                                                                                    \n",
       "2   Mozilla/5.0 (Windows NT 10.0; Win64; x64) App...                                                                                                                    \n",
       "3   Mozilla/5.0 (iPhone; CPU iPhone OS 16_0 like ...                                                                                                                    \n",
       "4   Mozilla/5.0 (iPhone; CPU iPhone OS 16_0_2 lik...                                                                                                                    "
      ]
     },
     "execution_count": 47,
     "metadata": {},
     "output_type": "execute_result"
    }
   ],
   "source": [
    "df=pd.read_excel(\"C:/Users/slogn/Documents/freelance project/Sample for Upwork.xlsx\")\n",
    "df.head()"
   ]
  },
  {
   "cell_type": "code",
   "execution_count": 48,
   "id": "3779e57e",
   "metadata": {},
   "outputs": [
    {
     "name": "stdout",
     "output_type": "stream",
     "text": [
      "<class 'pandas.core.frame.DataFrame'>\n",
      "RangeIndex: 9438 entries, 0 to 9437\n",
      "Data columns (total 3 columns):\n",
      " #   Column                                                                                                                                                                Non-Null Count  Dtype \n",
      "---  ------                                                                                                                                                                --------------  ----- \n",
      " 0    login_date                                                                                                                                                           9438 non-null   object\n",
      " 1    last_updated_by                                                                                                                                                      9438 non-null   object\n",
      " 2    login_device                                                                                                                                                         9438 non-null   object\n",
      "dtypes: object(3)\n",
      "memory usage: 221.3+ KB\n"
     ]
    }
   ],
   "source": [
    "df.info()"
   ]
  },
  {
   "cell_type": "markdown",
   "id": "4499b21e",
   "metadata": {},
   "source": [
    "## Task 1: remove all the emails with @aliaswire.com"
   ]
  },
  {
   "cell_type": "code",
   "execution_count": 49,
   "id": "d7b96081",
   "metadata": {},
   "outputs": [
    {
     "data": {
      "text/plain": [
       "Index([' login_date          ',\n",
       "       ' last_updated_by                                                                         ',\n",
       "       ' login_device                                                                                                                                                       '],\n",
       "      dtype='object')"
      ]
     },
     "execution_count": 49,
     "metadata": {},
     "output_type": "execute_result"
    }
   ],
   "source": [
    "df.columns"
   ]
  },
  {
   "cell_type": "code",
   "execution_count": 50,
   "id": "0a0a4699",
   "metadata": {},
   "outputs": [
    {
     "data": {
      "text/html": [
       "<div>\n",
       "<style scoped>\n",
       "    .dataframe tbody tr th:only-of-type {\n",
       "        vertical-align: middle;\n",
       "    }\n",
       "\n",
       "    .dataframe tbody tr th {\n",
       "        vertical-align: top;\n",
       "    }\n",
       "\n",
       "    .dataframe thead th {\n",
       "        text-align: right;\n",
       "    }\n",
       "</style>\n",
       "<table border=\"1\" class=\"dataframe\">\n",
       "  <thead>\n",
       "    <tr style=\"text-align: right;\">\n",
       "      <th></th>\n",
       "      <th>login_date</th>\n",
       "      <th>email</th>\n",
       "      <th>login_device</th>\n",
       "    </tr>\n",
       "  </thead>\n",
       "  <tbody>\n",
       "    <tr>\n",
       "      <th>0</th>\n",
       "      <td>2023-02-05 15:20:19</td>\n",
       "      <td>bbennett@vendingjustright.org                ...</td>\n",
       "      <td>Mozilla/5.0 (Linux; Android 12; KB2007) Apple...</td>\n",
       "    </tr>\n",
       "    <tr>\n",
       "      <th>1</th>\n",
       "      <td>2023-02-05 14:54:09</td>\n",
       "      <td>admin@amjsolutionsinvestor.com               ...</td>\n",
       "      <td>Mozilla/5.0 (Windows NT 10.0; Win64; x64) App...</td>\n",
       "    </tr>\n",
       "    <tr>\n",
       "      <th>2</th>\n",
       "      <td>2023-02-05 13:43:36</td>\n",
       "      <td>admin@amjsolutionsinvestor.com               ...</td>\n",
       "      <td>Mozilla/5.0 (Windows NT 10.0; Win64; x64) App...</td>\n",
       "    </tr>\n",
       "    <tr>\n",
       "      <th>3</th>\n",
       "      <td>2023-02-05 13:25:04</td>\n",
       "      <td>docudocllc@gmail.com                         ...</td>\n",
       "      <td>Mozilla/5.0 (iPhone; CPU iPhone OS 16_0 like ...</td>\n",
       "    </tr>\n",
       "    <tr>\n",
       "      <th>4</th>\n",
       "      <td>2023-02-05 09:12:32</td>\n",
       "      <td>lennyweston03@yahoo.com                      ...</td>\n",
       "      <td>Mozilla/5.0 (iPhone; CPU iPhone OS 16_0_2 lik...</td>\n",
       "    </tr>\n",
       "  </tbody>\n",
       "</table>\n",
       "</div>"
      ],
      "text/plain": [
       "              login_date                                              email  \\\n",
       "0   2023-02-05 15:20:19    bbennett@vendingjustright.org                ...   \n",
       "1   2023-02-05 14:54:09    admin@amjsolutionsinvestor.com               ...   \n",
       "2   2023-02-05 13:43:36    admin@amjsolutionsinvestor.com               ...   \n",
       "3   2023-02-05 13:25:04    docudocllc@gmail.com                         ...   \n",
       "4   2023-02-05 09:12:32    lennyweston03@yahoo.com                      ...   \n",
       "\n",
       "                                        login_device  \n",
       "0   Mozilla/5.0 (Linux; Android 12; KB2007) Apple...  \n",
       "1   Mozilla/5.0 (Windows NT 10.0; Win64; x64) App...  \n",
       "2   Mozilla/5.0 (Windows NT 10.0; Win64; x64) App...  \n",
       "3   Mozilla/5.0 (iPhone; CPU iPhone OS 16_0 like ...  \n",
       "4   Mozilla/5.0 (iPhone; CPU iPhone OS 16_0_2 lik...  "
      ]
     },
     "execution_count": 50,
     "metadata": {},
     "output_type": "execute_result"
    }
   ],
   "source": [
    "# renaming the columns name for easy utilisation\n",
    "df.columns = ['login_date','email','login_device']\n",
    "df.head()"
   ]
  },
  {
   "cell_type": "code",
   "execution_count": 51,
   "id": "13e14bd4",
   "metadata": {},
   "outputs": [
    {
     "name": "stdout",
     "output_type": "stream",
     "text": [
      " bbennett@vendingjustright.org                                                           \n",
      " lennyweston03@yahoo.com                                                                 \n",
      " lennyweston03@yahoo.com                                                                 \n",
      " pbaiersa@aliaswire.com                                                                  \n",
      " pbaiersa@aliaswire.com                                                                  \n",
      " PPPBOSTONNORTH@GMAIL.COM [pbaiersa@aliaswire.com]                                       \n",
      " pbaiersa@aliaswire.com                                                                  \n",
      " gbertsa@aliaswire.com                                                                   \n",
      " wayne@gsateams.com [gbertsa@aliaswire.com]                                              \n",
      " maria@Addarios.com                                                                      \n",
      " gbertsa@aliaswire.com                                                                   \n",
      " juniorpierre@realtihubllc.com [gbertsa@aliaswire.com]                                   \n",
      " gbertsa@aliaswire.com                                                                   \n",
      " mhordsa@aliaswire.com                                                                   \n",
      " mikemugg66@gmail.com [gbertsa@aliaswire.com]                                            \n",
      " gbertsa@aliaswire.com                                                                   \n",
      " mikemugg66@gmail.com [gbertsa@aliaswire.com]                                            \n",
      " gbertsa@aliaswire.com                                                                   \n",
      " ebeckmannsa@aliaswire.com                                                               \n",
      " admin@1stmerchants.com [mhordsa@aliaswire.com]                                          \n"
     ]
    }
   ],
   "source": [
    "# take a look on value in the email column\n",
    "for i in range(20):\n",
    "    print(df.iloc[-i,1])"
   ]
  },
  {
   "cell_type": "code",
   "execution_count": 52,
   "id": "1307a689",
   "metadata": {},
   "outputs": [],
   "source": [
    "#split the column last_updated_by\n",
    "\n",
    "df[['email','plus']]=df.email.str.split('[', expand=True)"
   ]
  },
  {
   "cell_type": "code",
   "execution_count": 53,
   "id": "e1c9643d",
   "metadata": {},
   "outputs": [
    {
     "data": {
      "text/html": [
       "<div>\n",
       "<style scoped>\n",
       "    .dataframe tbody tr th:only-of-type {\n",
       "        vertical-align: middle;\n",
       "    }\n",
       "\n",
       "    .dataframe tbody tr th {\n",
       "        vertical-align: top;\n",
       "    }\n",
       "\n",
       "    .dataframe thead th {\n",
       "        text-align: right;\n",
       "    }\n",
       "</style>\n",
       "<table border=\"1\" class=\"dataframe\">\n",
       "  <thead>\n",
       "    <tr style=\"text-align: right;\">\n",
       "      <th></th>\n",
       "      <th>login_date</th>\n",
       "      <th>email</th>\n",
       "      <th>login_device</th>\n",
       "      <th>plus</th>\n",
       "    </tr>\n",
       "  </thead>\n",
       "  <tbody>\n",
       "    <tr>\n",
       "      <th>0</th>\n",
       "      <td>2023-02-05 15:20:19</td>\n",
       "      <td>bbennett@vendingjustright.org                ...</td>\n",
       "      <td>Mozilla/5.0 (Linux; Android 12; KB2007) Apple...</td>\n",
       "      <td>None</td>\n",
       "    </tr>\n",
       "    <tr>\n",
       "      <th>1</th>\n",
       "      <td>2023-02-05 14:54:09</td>\n",
       "      <td>admin@amjsolutionsinvestor.com               ...</td>\n",
       "      <td>Mozilla/5.0 (Windows NT 10.0; Win64; x64) App...</td>\n",
       "      <td>None</td>\n",
       "    </tr>\n",
       "    <tr>\n",
       "      <th>2</th>\n",
       "      <td>2023-02-05 13:43:36</td>\n",
       "      <td>admin@amjsolutionsinvestor.com               ...</td>\n",
       "      <td>Mozilla/5.0 (Windows NT 10.0; Win64; x64) App...</td>\n",
       "      <td>None</td>\n",
       "    </tr>\n",
       "    <tr>\n",
       "      <th>3</th>\n",
       "      <td>2023-02-05 13:25:04</td>\n",
       "      <td>docudocllc@gmail.com                         ...</td>\n",
       "      <td>Mozilla/5.0 (iPhone; CPU iPhone OS 16_0 like ...</td>\n",
       "      <td>None</td>\n",
       "    </tr>\n",
       "    <tr>\n",
       "      <th>4</th>\n",
       "      <td>2023-02-05 09:12:32</td>\n",
       "      <td>lennyweston03@yahoo.com                      ...</td>\n",
       "      <td>Mozilla/5.0 (iPhone; CPU iPhone OS 16_0_2 lik...</td>\n",
       "      <td>None</td>\n",
       "    </tr>\n",
       "  </tbody>\n",
       "</table>\n",
       "</div>"
      ],
      "text/plain": [
       "              login_date                                              email  \\\n",
       "0   2023-02-05 15:20:19    bbennett@vendingjustright.org                ...   \n",
       "1   2023-02-05 14:54:09    admin@amjsolutionsinvestor.com               ...   \n",
       "2   2023-02-05 13:43:36    admin@amjsolutionsinvestor.com               ...   \n",
       "3   2023-02-05 13:25:04    docudocllc@gmail.com                         ...   \n",
       "4   2023-02-05 09:12:32    lennyweston03@yahoo.com                      ...   \n",
       "\n",
       "                                        login_device  plus  \n",
       "0   Mozilla/5.0 (Linux; Android 12; KB2007) Apple...  None  \n",
       "1   Mozilla/5.0 (Windows NT 10.0; Win64; x64) App...  None  \n",
       "2   Mozilla/5.0 (Windows NT 10.0; Win64; x64) App...  None  \n",
       "3   Mozilla/5.0 (iPhone; CPU iPhone OS 16_0 like ...  None  \n",
       "4   Mozilla/5.0 (iPhone; CPU iPhone OS 16_0_2 lik...  None  "
      ]
     },
     "execution_count": 53,
     "metadata": {},
     "output_type": "execute_result"
    }
   ],
   "source": [
    "df.head()"
   ]
  },
  {
   "cell_type": "code",
   "execution_count": 54,
   "id": "59f1f343",
   "metadata": {},
   "outputs": [],
   "source": [
    "# defining a function to identify email with the pattern @aliaswire.com\n",
    "import re\n",
    "def remove_email_with_pattern(email):\n",
    "    try:\n",
    "        re.findall('@aliaswire.com$',email)[0]\n",
    "        return 1\n",
    "    except:\n",
    "        return 0\n"
   ]
  },
  {
   "cell_type": "code",
   "execution_count": 55,
   "id": "4bbad197",
   "metadata": {},
   "outputs": [
    {
     "data": {
      "text/plain": [
       "1"
      ]
     },
     "execution_count": 55,
     "metadata": {},
     "output_type": "execute_result"
    }
   ],
   "source": [
    "# testing the function\n",
    "remove_email_with_pattern(str.strip(' pbaiersa@aliaswire.com         '))"
   ]
  },
  {
   "cell_type": "code",
   "execution_count": 56,
   "id": "6b50d830",
   "metadata": {},
   "outputs": [
    {
     "name": "stdout",
     "output_type": "stream",
     "text": [
      "(9438, 5)\n"
     ]
    }
   ],
   "source": [
    "# creating a new column to filter out rows with the pattern\n",
    "df['test']=df['email'].map(lambda x: remove_email_with_pattern(str.strip(x)))\n",
    "df.head()\n",
    "print(df.shape)"
   ]
  },
  {
   "cell_type": "code",
   "execution_count": 57,
   "id": "170c89b1",
   "metadata": {},
   "outputs": [
    {
     "data": {
      "text/html": [
       "<div>\n",
       "<style scoped>\n",
       "    .dataframe tbody tr th:only-of-type {\n",
       "        vertical-align: middle;\n",
       "    }\n",
       "\n",
       "    .dataframe tbody tr th {\n",
       "        vertical-align: top;\n",
       "    }\n",
       "\n",
       "    .dataframe thead th {\n",
       "        text-align: right;\n",
       "    }\n",
       "</style>\n",
       "<table border=\"1\" class=\"dataframe\">\n",
       "  <thead>\n",
       "    <tr style=\"text-align: right;\">\n",
       "      <th></th>\n",
       "      <th>login_date</th>\n",
       "      <th>email</th>\n",
       "      <th>login_device</th>\n",
       "      <th>plus</th>\n",
       "      <th>test</th>\n",
       "    </tr>\n",
       "  </thead>\n",
       "  <tbody>\n",
       "    <tr>\n",
       "      <th>6</th>\n",
       "      <td>2023-02-05 08:02:35</td>\n",
       "      <td>pbaiersa@aliaswire.com                       ...</td>\n",
       "      <td>Mozilla/5.0 (Macintosh; Intel Mac OS X 10_15_...</td>\n",
       "      <td>None</td>\n",
       "      <td>1</td>\n",
       "    </tr>\n",
       "    <tr>\n",
       "      <th>17</th>\n",
       "      <td>2023-02-04 11:04:44</td>\n",
       "      <td>pbaiersa@aliaswire.com                       ...</td>\n",
       "      <td>Mozilla/5.0 (Macintosh; Intel Mac OS X 10_15_...</td>\n",
       "      <td>None</td>\n",
       "      <td>1</td>\n",
       "    </tr>\n",
       "    <tr>\n",
       "      <th>24</th>\n",
       "      <td>2023-02-04 06:37:05</td>\n",
       "      <td>pbaiersa@aliaswire.com                       ...</td>\n",
       "      <td>Mozilla/5.0 (Macintosh; Intel Mac OS X 10_15_...</td>\n",
       "      <td>None</td>\n",
       "      <td>1</td>\n",
       "    </tr>\n",
       "    <tr>\n",
       "      <th>25</th>\n",
       "      <td>2023-02-04 06:06:55</td>\n",
       "      <td>pbaiersa@aliaswire.com                       ...</td>\n",
       "      <td>Mozilla/5.0 (Macintosh; Intel Mac OS X 10_15_...</td>\n",
       "      <td>None</td>\n",
       "      <td>1</td>\n",
       "    </tr>\n",
       "    <tr>\n",
       "      <th>27</th>\n",
       "      <td>2023-02-04 05:32:00</td>\n",
       "      <td>pbaiersa@aliaswire.com                       ...</td>\n",
       "      <td>Mozilla/5.0 (Macintosh; Intel Mac OS X 10_15_...</td>\n",
       "      <td>None</td>\n",
       "      <td>1</td>\n",
       "    </tr>\n",
       "    <tr>\n",
       "      <th>...</th>\n",
       "      <td>...</td>\n",
       "      <td>...</td>\n",
       "      <td>...</td>\n",
       "      <td>...</td>\n",
       "      <td>...</td>\n",
       "    </tr>\n",
       "    <tr>\n",
       "      <th>9428</th>\n",
       "      <td>2023-01-03 07:53:28</td>\n",
       "      <td>gbertsa@aliaswire.com                        ...</td>\n",
       "      <td>Mozilla/5.0 (Windows NT 10.0; Win64; x64) App...</td>\n",
       "      <td>None</td>\n",
       "      <td>1</td>\n",
       "    </tr>\n",
       "    <tr>\n",
       "      <th>9431</th>\n",
       "      <td>2023-01-03 07:49:47</td>\n",
       "      <td>gbertsa@aliaswire.com                        ...</td>\n",
       "      <td>Mozilla/5.0 (Windows NT 10.0; Win64; x64) App...</td>\n",
       "      <td>None</td>\n",
       "      <td>1</td>\n",
       "    </tr>\n",
       "    <tr>\n",
       "      <th>9432</th>\n",
       "      <td>2023-01-03 07:27:46</td>\n",
       "      <td>pbaiersa@aliaswire.com                       ...</td>\n",
       "      <td>Mozilla/5.0 (Macintosh; Intel Mac OS X 10_15_...</td>\n",
       "      <td>None</td>\n",
       "      <td>1</td>\n",
       "    </tr>\n",
       "    <tr>\n",
       "      <th>9434</th>\n",
       "      <td>2023-01-03 07:24:55</td>\n",
       "      <td>pbaiersa@aliaswire.com                       ...</td>\n",
       "      <td>Mozilla/5.0 (Macintosh; Intel Mac OS X 10_15_...</td>\n",
       "      <td>None</td>\n",
       "      <td>1</td>\n",
       "    </tr>\n",
       "    <tr>\n",
       "      <th>9435</th>\n",
       "      <td>2023-01-03 07:22:43</td>\n",
       "      <td>pbaiersa@aliaswire.com                       ...</td>\n",
       "      <td>Mozilla/5.0 (Macintosh; Intel Mac OS X 10_15_...</td>\n",
       "      <td>None</td>\n",
       "      <td>1</td>\n",
       "    </tr>\n",
       "  </tbody>\n",
       "</table>\n",
       "<p>3629 rows × 5 columns</p>\n",
       "</div>"
      ],
      "text/plain": [
       "                 login_date  \\\n",
       "6      2023-02-05 08:02:35    \n",
       "17     2023-02-04 11:04:44    \n",
       "24     2023-02-04 06:37:05    \n",
       "25     2023-02-04 06:06:55    \n",
       "27     2023-02-04 05:32:00    \n",
       "...                     ...   \n",
       "9428   2023-01-03 07:53:28    \n",
       "9431   2023-01-03 07:49:47    \n",
       "9432   2023-01-03 07:27:46    \n",
       "9434   2023-01-03 07:24:55    \n",
       "9435   2023-01-03 07:22:43    \n",
       "\n",
       "                                                  email  \\\n",
       "6      pbaiersa@aliaswire.com                       ...   \n",
       "17     pbaiersa@aliaswire.com                       ...   \n",
       "24     pbaiersa@aliaswire.com                       ...   \n",
       "25     pbaiersa@aliaswire.com                       ...   \n",
       "27     pbaiersa@aliaswire.com                       ...   \n",
       "...                                                 ...   \n",
       "9428   gbertsa@aliaswire.com                        ...   \n",
       "9431   gbertsa@aliaswire.com                        ...   \n",
       "9432   pbaiersa@aliaswire.com                       ...   \n",
       "9434   pbaiersa@aliaswire.com                       ...   \n",
       "9435   pbaiersa@aliaswire.com                       ...   \n",
       "\n",
       "                                           login_device  plus  test  \n",
       "6      Mozilla/5.0 (Macintosh; Intel Mac OS X 10_15_...  None     1  \n",
       "17     Mozilla/5.0 (Macintosh; Intel Mac OS X 10_15_...  None     1  \n",
       "24     Mozilla/5.0 (Macintosh; Intel Mac OS X 10_15_...  None     1  \n",
       "25     Mozilla/5.0 (Macintosh; Intel Mac OS X 10_15_...  None     1  \n",
       "27     Mozilla/5.0 (Macintosh; Intel Mac OS X 10_15_...  None     1  \n",
       "...                                                 ...   ...   ...  \n",
       "9428   Mozilla/5.0 (Windows NT 10.0; Win64; x64) App...  None     1  \n",
       "9431   Mozilla/5.0 (Windows NT 10.0; Win64; x64) App...  None     1  \n",
       "9432   Mozilla/5.0 (Macintosh; Intel Mac OS X 10_15_...  None     1  \n",
       "9434   Mozilla/5.0 (Macintosh; Intel Mac OS X 10_15_...  None     1  \n",
       "9435   Mozilla/5.0 (Macintosh; Intel Mac OS X 10_15_...  None     1  \n",
       "\n",
       "[3629 rows x 5 columns]"
      ]
     },
     "execution_count": 57,
     "metadata": {},
     "output_type": "execute_result"
    }
   ],
   "source": [
    "df[df['test'] == 1]"
   ]
  },
  {
   "cell_type": "code",
   "execution_count": 58,
   "id": "72d4ece2",
   "metadata": {},
   "outputs": [
    {
     "data": {
      "text/html": [
       "<div>\n",
       "<style scoped>\n",
       "    .dataframe tbody tr th:only-of-type {\n",
       "        vertical-align: middle;\n",
       "    }\n",
       "\n",
       "    .dataframe tbody tr th {\n",
       "        vertical-align: top;\n",
       "    }\n",
       "\n",
       "    .dataframe thead th {\n",
       "        text-align: right;\n",
       "    }\n",
       "</style>\n",
       "<table border=\"1\" class=\"dataframe\">\n",
       "  <thead>\n",
       "    <tr style=\"text-align: right;\">\n",
       "      <th></th>\n",
       "      <th>index</th>\n",
       "      <th>login_date</th>\n",
       "      <th>email</th>\n",
       "      <th>login_device</th>\n",
       "      <th>plus</th>\n",
       "      <th>test</th>\n",
       "    </tr>\n",
       "  </thead>\n",
       "  <tbody>\n",
       "    <tr>\n",
       "      <th>0</th>\n",
       "      <td>0</td>\n",
       "      <td>2023-02-05 15:20:19</td>\n",
       "      <td>bbennett@vendingjustright.org                ...</td>\n",
       "      <td>Mozilla/5.0 (Linux; Android 12; KB2007) Apple...</td>\n",
       "      <td>None</td>\n",
       "      <td>0</td>\n",
       "    </tr>\n",
       "    <tr>\n",
       "      <th>1</th>\n",
       "      <td>1</td>\n",
       "      <td>2023-02-05 14:54:09</td>\n",
       "      <td>admin@amjsolutionsinvestor.com               ...</td>\n",
       "      <td>Mozilla/5.0 (Windows NT 10.0; Win64; x64) App...</td>\n",
       "      <td>None</td>\n",
       "      <td>0</td>\n",
       "    </tr>\n",
       "    <tr>\n",
       "      <th>2</th>\n",
       "      <td>2</td>\n",
       "      <td>2023-02-05 13:43:36</td>\n",
       "      <td>admin@amjsolutionsinvestor.com               ...</td>\n",
       "      <td>Mozilla/5.0 (Windows NT 10.0; Win64; x64) App...</td>\n",
       "      <td>None</td>\n",
       "      <td>0</td>\n",
       "    </tr>\n",
       "    <tr>\n",
       "      <th>3</th>\n",
       "      <td>3</td>\n",
       "      <td>2023-02-05 13:25:04</td>\n",
       "      <td>docudocllc@gmail.com                         ...</td>\n",
       "      <td>Mozilla/5.0 (iPhone; CPU iPhone OS 16_0 like ...</td>\n",
       "      <td>None</td>\n",
       "      <td>0</td>\n",
       "    </tr>\n",
       "    <tr>\n",
       "      <th>4</th>\n",
       "      <td>4</td>\n",
       "      <td>2023-02-05 09:12:32</td>\n",
       "      <td>lennyweston03@yahoo.com                      ...</td>\n",
       "      <td>Mozilla/5.0 (iPhone; CPU iPhone OS 16_0_2 lik...</td>\n",
       "      <td>None</td>\n",
       "      <td>0</td>\n",
       "    </tr>\n",
       "  </tbody>\n",
       "</table>\n",
       "</div>"
      ],
      "text/plain": [
       "   index             login_date  \\\n",
       "0      0   2023-02-05 15:20:19    \n",
       "1      1   2023-02-05 14:54:09    \n",
       "2      2   2023-02-05 13:43:36    \n",
       "3      3   2023-02-05 13:25:04    \n",
       "4      4   2023-02-05 09:12:32    \n",
       "\n",
       "                                               email  \\\n",
       "0   bbennett@vendingjustright.org                ...   \n",
       "1   admin@amjsolutionsinvestor.com               ...   \n",
       "2   admin@amjsolutionsinvestor.com               ...   \n",
       "3   docudocllc@gmail.com                         ...   \n",
       "4   lennyweston03@yahoo.com                      ...   \n",
       "\n",
       "                                        login_device  plus  test  \n",
       "0   Mozilla/5.0 (Linux; Android 12; KB2007) Apple...  None     0  \n",
       "1   Mozilla/5.0 (Windows NT 10.0; Win64; x64) App...  None     0  \n",
       "2   Mozilla/5.0 (Windows NT 10.0; Win64; x64) App...  None     0  \n",
       "3   Mozilla/5.0 (iPhone; CPU iPhone OS 16_0 like ...  None     0  \n",
       "4   Mozilla/5.0 (iPhone; CPU iPhone OS 16_0_2 lik...  None     0  "
      ]
     },
     "execution_count": 58,
     "metadata": {},
     "output_type": "execute_result"
    }
   ],
   "source": [
    "# defining a new dataset of all the rows not presenting the pattern @aliaswire.com\n",
    "df2=df[df['test']==0].reset_index()\n",
    "df2.head()"
   ]
  },
  {
   "cell_type": "markdown",
   "id": "c2f3976d",
   "metadata": {},
   "source": [
    "## Task2: how many unique emails are used"
   ]
  },
  {
   "cell_type": "code",
   "execution_count": 59,
   "id": "22419ead",
   "metadata": {},
   "outputs": [
    {
     "data": {
      "text/plain": [
       "' partneradmin@aw.com '"
      ]
     },
     "execution_count": 59,
     "metadata": {},
     "output_type": "execute_result"
    }
   ],
   "source": [
    "df2['email'][30]"
   ]
  },
  {
   "cell_type": "code",
   "execution_count": 60,
   "id": "0e8b57a6",
   "metadata": {},
   "outputs": [
    {
     "data": {
      "text/plain": [
       "'partneradmin@aw.com'"
      ]
     },
     "execution_count": 60,
     "metadata": {},
     "output_type": "execute_result"
    }
   ],
   "source": [
    "# removing extra space in the email address\n",
    "df2['email'] = df2['email'].apply(lambda x: str.strip(x))\n",
    "df2['email'][30]"
   ]
  },
  {
   "cell_type": "code",
   "execution_count": 61,
   "id": "01ab7f15",
   "metadata": {},
   "outputs": [
    {
     "name": "stdout",
     "output_type": "stream",
     "text": [
      "The number of unique email in the dataset is 350\n"
     ]
    }
   ],
   "source": [
    "# number of unique emails used\n",
    "number = df2['email'].nunique()\n",
    "print(f'The number of unique email in the dataset is {number}')"
   ]
  },
  {
   "cell_type": "markdown",
   "id": "9be3bc4b",
   "metadata": {},
   "source": [
    "## Task3: what is the average # of unique emails that log in per week"
   ]
  },
  {
   "cell_type": "code",
   "execution_count": 62,
   "id": "ac6b8072",
   "metadata": {},
   "outputs": [],
   "source": [
    "# casting the column login_date to a date format\n",
    "df2['login_date'] = df2['login_date'].apply(lambda x: str.strip(x))\n",
    "df2['login_date']=df2['login_date'].astype('datetime64[ns]')"
   ]
  },
  {
   "cell_type": "code",
   "execution_count": 63,
   "id": "55b36fff",
   "metadata": {},
   "outputs": [
    {
     "data": {
      "text/plain": [
       "index                    int64\n",
       "login_date      datetime64[ns]\n",
       "email                   object\n",
       "login_device            object\n",
       "plus                    object\n",
       "test                     int64\n",
       "dtype: object"
      ]
     },
     "execution_count": 63,
     "metadata": {},
     "output_type": "execute_result"
    }
   ],
   "source": [
    "# checking the data type\n",
    "df2.dtypes"
   ]
  },
  {
   "cell_type": "code",
   "execution_count": 64,
   "id": "74f65911",
   "metadata": {},
   "outputs": [
    {
     "data": {
      "text/html": [
       "<div>\n",
       "<style scoped>\n",
       "    .dataframe tbody tr th:only-of-type {\n",
       "        vertical-align: middle;\n",
       "    }\n",
       "\n",
       "    .dataframe tbody tr th {\n",
       "        vertical-align: top;\n",
       "    }\n",
       "\n",
       "    .dataframe thead th {\n",
       "        text-align: right;\n",
       "    }\n",
       "</style>\n",
       "<table border=\"1\" class=\"dataframe\">\n",
       "  <thead>\n",
       "    <tr style=\"text-align: right;\">\n",
       "      <th></th>\n",
       "      <th>index</th>\n",
       "      <th>login_date</th>\n",
       "      <th>email</th>\n",
       "      <th>login_device</th>\n",
       "      <th>plus</th>\n",
       "      <th>test</th>\n",
       "      <th>weekofyear</th>\n",
       "    </tr>\n",
       "  </thead>\n",
       "  <tbody>\n",
       "    <tr>\n",
       "      <th>0</th>\n",
       "      <td>0</td>\n",
       "      <td>2023-02-05 15:20:19</td>\n",
       "      <td>bbennett@vendingjustright.org</td>\n",
       "      <td>Mozilla/5.0 (Linux; Android 12; KB2007) Apple...</td>\n",
       "      <td>None</td>\n",
       "      <td>0</td>\n",
       "      <td>5</td>\n",
       "    </tr>\n",
       "    <tr>\n",
       "      <th>1</th>\n",
       "      <td>1</td>\n",
       "      <td>2023-02-05 14:54:09</td>\n",
       "      <td>admin@amjsolutionsinvestor.com</td>\n",
       "      <td>Mozilla/5.0 (Windows NT 10.0; Win64; x64) App...</td>\n",
       "      <td>None</td>\n",
       "      <td>0</td>\n",
       "      <td>5</td>\n",
       "    </tr>\n",
       "    <tr>\n",
       "      <th>2</th>\n",
       "      <td>2</td>\n",
       "      <td>2023-02-05 13:43:36</td>\n",
       "      <td>admin@amjsolutionsinvestor.com</td>\n",
       "      <td>Mozilla/5.0 (Windows NT 10.0; Win64; x64) App...</td>\n",
       "      <td>None</td>\n",
       "      <td>0</td>\n",
       "      <td>5</td>\n",
       "    </tr>\n",
       "    <tr>\n",
       "      <th>3</th>\n",
       "      <td>3</td>\n",
       "      <td>2023-02-05 13:25:04</td>\n",
       "      <td>docudocllc@gmail.com</td>\n",
       "      <td>Mozilla/5.0 (iPhone; CPU iPhone OS 16_0 like ...</td>\n",
       "      <td>None</td>\n",
       "      <td>0</td>\n",
       "      <td>5</td>\n",
       "    </tr>\n",
       "    <tr>\n",
       "      <th>4</th>\n",
       "      <td>4</td>\n",
       "      <td>2023-02-05 09:12:32</td>\n",
       "      <td>lennyweston03@yahoo.com</td>\n",
       "      <td>Mozilla/5.0 (iPhone; CPU iPhone OS 16_0_2 lik...</td>\n",
       "      <td>None</td>\n",
       "      <td>0</td>\n",
       "      <td>5</td>\n",
       "    </tr>\n",
       "  </tbody>\n",
       "</table>\n",
       "</div>"
      ],
      "text/plain": [
       "   index          login_date                           email  \\\n",
       "0      0 2023-02-05 15:20:19   bbennett@vendingjustright.org   \n",
       "1      1 2023-02-05 14:54:09  admin@amjsolutionsinvestor.com   \n",
       "2      2 2023-02-05 13:43:36  admin@amjsolutionsinvestor.com   \n",
       "3      3 2023-02-05 13:25:04            docudocllc@gmail.com   \n",
       "4      4 2023-02-05 09:12:32         lennyweston03@yahoo.com   \n",
       "\n",
       "                                        login_device  plus  test  weekofyear  \n",
       "0   Mozilla/5.0 (Linux; Android 12; KB2007) Apple...  None     0           5  \n",
       "1   Mozilla/5.0 (Windows NT 10.0; Win64; x64) App...  None     0           5  \n",
       "2   Mozilla/5.0 (Windows NT 10.0; Win64; x64) App...  None     0           5  \n",
       "3   Mozilla/5.0 (iPhone; CPU iPhone OS 16_0 like ...  None     0           5  \n",
       "4   Mozilla/5.0 (iPhone; CPU iPhone OS 16_0_2 lik...  None     0           5  "
      ]
     },
     "execution_count": 64,
     "metadata": {},
     "output_type": "execute_result"
    }
   ],
   "source": [
    "# creating a new column containing the id of the week\n",
    "df2['weekofyear']=df2['login_date'].apply(lambda x: x.weekofyear)\n",
    "df2.head()"
   ]
  },
  {
   "cell_type": "code",
   "execution_count": 65,
   "id": "44075894",
   "metadata": {},
   "outputs": [
    {
     "data": {
      "text/plain": [
       "array([5, 4, 3, 2, 1], dtype=int64)"
      ]
     },
     "execution_count": 65,
     "metadata": {},
     "output_type": "execute_result"
    }
   ],
   "source": [
    "df2['weekofyear'].unique()"
   ]
  },
  {
   "cell_type": "code",
   "execution_count": 66,
   "id": "b6ff0371",
   "metadata": {},
   "outputs": [
    {
     "name": "stdout",
     "output_type": "stream",
     "text": [
      "the average # of unique emails that log in per week is : 183\n"
     ]
    }
   ],
   "source": [
    "# removing the duplicates and storing the data in a new dataframe\n",
    "week_login=df2[['email','weekofyear']].drop_duplicates()\n",
    "# calculating the number of login of unique user each week\n",
    "week_login=week_login.groupby(['weekofyear']).count().reset_index()\n",
    "# calculating the average # of unique emails that log in per week\n",
    "average=round(week_login['email'].mean())\n",
    "print(f'the average # of unique emails that log in per week is : {average}')"
   ]
  },
  {
   "cell_type": "code",
   "execution_count": 68,
   "id": "6ae3eeee",
   "metadata": {},
   "outputs": [
    {
     "data": {
      "text/plain": [
       "datetime.date"
      ]
     },
     "execution_count": 68,
     "metadata": {},
     "output_type": "execute_result"
    }
   ],
   "source": [
    "type(df2['login_date'][0].date())"
   ]
  },
  {
   "cell_type": "markdown",
   "id": "f8adc01e",
   "metadata": {},
   "source": [
    "## Task4: pie chart of which browsers are used and which operating system"
   ]
  },
  {
   "cell_type": "code",
   "execution_count": 70,
   "id": "ab360aa7",
   "metadata": {},
   "outputs": [
    {
     "data": {
      "image/png": "[encoded data removed]",
      "text/plain": [
       "<Figure size 1500x800 with 1 Axes>"
      ]
     },
     "metadata": {},
     "output_type": "display_data"
    }
   ],
   "source": [
    "df2['login_date_str']=df2['login_date'].apply(lambda x: x.date())\n",
    "plt.figure(figsize=(15,8))\n",
    "df2.groupby('login_date_str').count()['index'].plot()\n",
    "locs, labels = plt.xticks()\n",
    "plt.xlabel('day')\n",
    "plt.ylabel('number of login')\n",
    "plt.setp(labels, rotation=45)\n",
    "plt.show()"
   ]
  },
  {
   "cell_type": "markdown",
   "id": "a0f22ff0",
   "metadata": {},
   "source": [
    "## Task 4: make a line graph that shows the # of times each unique email logged in"
   ]
  },
  {
   "cell_type": "code",
   "execution_count": 71,
   "id": "89ea73b6",
   "metadata": {},
   "outputs": [
    {
     "data": {
      "text/plain": [
       "<function matplotlib.pyplot.show(close=None, block=None)>"
      ]
     },
     "execution_count": 71,
     "metadata": {},
     "output_type": "execute_result"
    },
    {
     "data": {
      "image/png": "[encoded data removed]",
      "text/plain": [
       "<Figure size 1000x400 with 1 Axes>"
      ]
     },
     "metadata": {},
     "output_type": "display_data"
    }
   ],
   "source": [
    "# make a line graph that shows the # of times each unique email logged in\n",
    "plt.figure(figsize=(10,4))\n",
    "d=df2.groupby(['email']).count()['login_date'].reset_index()\n",
    "d['login_date'].plot()\n",
    "plt.ylabel('# of times each unique email logged in')\n",
    "plt.xlabel('unique email index')\n",
    "plt.show"
   ]
  },
  {
   "cell_type": "markdown",
   "id": "3edd1ab4",
   "metadata": {},
   "source": [
    "## Task5:pie chart of which browsers are used and which operating system"
   ]
  },
  {
   "cell_type": "code",
   "execution_count": 72,
   "id": "c0ceae59",
   "metadata": {},
   "outputs": [],
   "source": [
    "# creating a function to identify the operatin system of each user\n",
    "def operating_system(x):\n",
    "    if len(re.findall('iPhone',x))>0:\n",
    "        return 'iphone OS'\n",
    "    elif len(re.findall('Linus',x))>0:\n",
    "        return 'linux OS'\n",
    "    elif len(re.findall('Android',x))>0:\n",
    "        return 'android OS'\n",
    "    elif len(re.findall('Window',x))>0:\n",
    "        return 'window OS'\n",
    "    elif len(re.findall('Mac OS',x))>0:\n",
    "        return 'Mac OS'\n",
    "    elif len(re.findall('CrOS',x))>0:\n",
    "        return 'CrOS'\n",
    "    else:\n",
    "        return 'unknown' "
   ]
  },
  {
   "cell_type": "code",
   "execution_count": 73,
   "id": "363620b1",
   "metadata": {},
   "outputs": [
    {
     "data": {
      "text/html": [
       "<div>\n",
       "<style scoped>\n",
       "    .dataframe tbody tr th:only-of-type {\n",
       "        vertical-align: middle;\n",
       "    }\n",
       "\n",
       "    .dataframe tbody tr th {\n",
       "        vertical-align: top;\n",
       "    }\n",
       "\n",
       "    .dataframe thead th {\n",
       "        text-align: right;\n",
       "    }\n",
       "</style>\n",
       "<table border=\"1\" class=\"dataframe\">\n",
       "  <thead>\n",
       "    <tr style=\"text-align: right;\">\n",
       "      <th></th>\n",
       "      <th>index</th>\n",
       "      <th>login_date</th>\n",
       "      <th>email</th>\n",
       "      <th>login_device</th>\n",
       "      <th>plus</th>\n",
       "      <th>test</th>\n",
       "      <th>weekofyear</th>\n",
       "      <th>login_date_str</th>\n",
       "      <th>operating_sys</th>\n",
       "    </tr>\n",
       "  </thead>\n",
       "  <tbody>\n",
       "    <tr>\n",
       "      <th>0</th>\n",
       "      <td>0</td>\n",
       "      <td>2023-02-05 15:20:19</td>\n",
       "      <td>bbennett@vendingjustright.org</td>\n",
       "      <td>Mozilla/5.0 (Linux; Android 12; KB2007) Apple...</td>\n",
       "      <td>None</td>\n",
       "      <td>0</td>\n",
       "      <td>5</td>\n",
       "      <td>2023-02-05</td>\n",
       "      <td>android OS</td>\n",
       "    </tr>\n",
       "    <tr>\n",
       "      <th>1</th>\n",
       "      <td>1</td>\n",
       "      <td>2023-02-05 14:54:09</td>\n",
       "      <td>admin@amjsolutionsinvestor.com</td>\n",
       "      <td>Mozilla/5.0 (Windows NT 10.0; Win64; x64) App...</td>\n",
       "      <td>None</td>\n",
       "      <td>0</td>\n",
       "      <td>5</td>\n",
       "      <td>2023-02-05</td>\n",
       "      <td>window OS</td>\n",
       "    </tr>\n",
       "    <tr>\n",
       "      <th>2</th>\n",
       "      <td>2</td>\n",
       "      <td>2023-02-05 13:43:36</td>\n",
       "      <td>admin@amjsolutionsinvestor.com</td>\n",
       "      <td>Mozilla/5.0 (Windows NT 10.0; Win64; x64) App...</td>\n",
       "      <td>None</td>\n",
       "      <td>0</td>\n",
       "      <td>5</td>\n",
       "      <td>2023-02-05</td>\n",
       "      <td>window OS</td>\n",
       "    </tr>\n",
       "    <tr>\n",
       "      <th>3</th>\n",
       "      <td>3</td>\n",
       "      <td>2023-02-05 13:25:04</td>\n",
       "      <td>docudocllc@gmail.com</td>\n",
       "      <td>Mozilla/5.0 (iPhone; CPU iPhone OS 16_0 like ...</td>\n",
       "      <td>None</td>\n",
       "      <td>0</td>\n",
       "      <td>5</td>\n",
       "      <td>2023-02-05</td>\n",
       "      <td>iphone OS</td>\n",
       "    </tr>\n",
       "    <tr>\n",
       "      <th>4</th>\n",
       "      <td>4</td>\n",
       "      <td>2023-02-05 09:12:32</td>\n",
       "      <td>lennyweston03@yahoo.com</td>\n",
       "      <td>Mozilla/5.0 (iPhone; CPU iPhone OS 16_0_2 lik...</td>\n",
       "      <td>None</td>\n",
       "      <td>0</td>\n",
       "      <td>5</td>\n",
       "      <td>2023-02-05</td>\n",
       "      <td>iphone OS</td>\n",
       "    </tr>\n",
       "  </tbody>\n",
       "</table>\n",
       "</div>"
      ],
      "text/plain": [
       "   index          login_date                           email  \\\n",
       "0      0 2023-02-05 15:20:19   bbennett@vendingjustright.org   \n",
       "1      1 2023-02-05 14:54:09  admin@amjsolutionsinvestor.com   \n",
       "2      2 2023-02-05 13:43:36  admin@amjsolutionsinvestor.com   \n",
       "3      3 2023-02-05 13:25:04            docudocllc@gmail.com   \n",
       "4      4 2023-02-05 09:12:32         lennyweston03@yahoo.com   \n",
       "\n",
       "                                        login_device  plus  test  weekofyear  \\\n",
       "0   Mozilla/5.0 (Linux; Android 12; KB2007) Apple...  None     0           5   \n",
       "1   Mozilla/5.0 (Windows NT 10.0; Win64; x64) App...  None     0           5   \n",
       "2   Mozilla/5.0 (Windows NT 10.0; Win64; x64) App...  None     0           5   \n",
       "3   Mozilla/5.0 (iPhone; CPU iPhone OS 16_0 like ...  None     0           5   \n",
       "4   Mozilla/5.0 (iPhone; CPU iPhone OS 16_0_2 lik...  None     0           5   \n",
       "\n",
       "  login_date_str operating_sys  \n",
       "0     2023-02-05    android OS  \n",
       "1     2023-02-05     window OS  \n",
       "2     2023-02-05     window OS  \n",
       "3     2023-02-05     iphone OS  \n",
       "4     2023-02-05     iphone OS  "
      ]
     },
     "execution_count": 73,
     "metadata": {},
     "output_type": "execute_result"
    }
   ],
   "source": [
    "# creation a new column containing the type of operating system used\n",
    "df2['operating_sys']=df2['login_device'].apply(lambda x: operating_system(x))\n",
    "df2.head()"
   ]
  },
  {
   "cell_type": "code",
   "execution_count": 74,
   "id": "37e1920c",
   "metadata": {},
   "outputs": [
    {
     "data": {
      "text/html": [
       "<div>\n",
       "<style scoped>\n",
       "    .dataframe tbody tr th:only-of-type {\n",
       "        vertical-align: middle;\n",
       "    }\n",
       "\n",
       "    .dataframe tbody tr th {\n",
       "        vertical-align: top;\n",
       "    }\n",
       "\n",
       "    .dataframe thead th {\n",
       "        text-align: right;\n",
       "    }\n",
       "</style>\n",
       "<table border=\"1\" class=\"dataframe\">\n",
       "  <thead>\n",
       "    <tr style=\"text-align: right;\">\n",
       "      <th></th>\n",
       "      <th>index</th>\n",
       "      <th>login_date</th>\n",
       "      <th>email</th>\n",
       "      <th>login_device</th>\n",
       "      <th>plus</th>\n",
       "      <th>test</th>\n",
       "      <th>weekofyear</th>\n",
       "      <th>login_date_str</th>\n",
       "      <th>operating_sys</th>\n",
       "    </tr>\n",
       "  </thead>\n",
       "  <tbody>\n",
       "  </tbody>\n",
       "</table>\n",
       "</div>"
      ],
      "text/plain": [
       "Empty DataFrame\n",
       "Columns: [index, login_date, email, login_device, plus, test, weekofyear, login_date_str, operating_sys]\n",
       "Index: []"
      ]
     },
     "execution_count": 74,
     "metadata": {},
     "output_type": "execute_result"
    }
   ],
   "source": [
    "# making sure all user have been assigned an operating system\n",
    "df2[df2['operating_sys']=='unknown']"
   ]
  },
  {
   "cell_type": "code",
   "execution_count": 347,
   "id": "f1c686e0",
   "metadata": {},
   "outputs": [
    {
     "data": {
      "text/plain": [
       "<AxesSubplot:ylabel='index'>"
      ]
     },
     "execution_count": 347,
     "metadata": {},
     "output_type": "execute_result"
    },
    {
     "data": {
      "image/png": "[encoded data removed]",
      "text/plain": [
       "<Figure size 640x480 with 1 Axes>"
      ]
     },
     "metadata": {},
     "output_type": "display_data"
    }
   ],
   "source": [
    "# plotting the number of user per operating system\n",
    "d=df2.groupby(['operating_sys']).count()\n",
    "d.plot(y='index',kind='pie')"
   ]
  }
 ],
 "metadata": {
  "kernelspec": {
   "display_name": "Python 3 (ipykernel)",
   "language": "python",
   "name": "python3"
  },
  "language_info": {
   "codemirror_mode": {
    "name": "ipython",
    "version": 3
   },
   "file_extension": ".py",
   "mimetype": "text/x-python",
   "name": "python",
   "nbconvert_exporter": "python",
   "pygments_lexer": "ipython3",
   "version": "3.9.13"
  }
 },
 "nbformat": 4,
 "nbformat_minor": 5
}
